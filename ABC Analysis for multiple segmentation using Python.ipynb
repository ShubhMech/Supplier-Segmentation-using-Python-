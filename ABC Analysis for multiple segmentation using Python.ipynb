{
 "cells": [
  {
   "cell_type": "code",
   "execution_count": 1,
   "id": "ebea93e3-ac7c-4767-aea1-d665202e5a38",
   "metadata": {},
   "outputs": [],
   "source": [
    "path= r\"D:\\Asus\\Documents\\supplier_data.csv\""
   ]
  },
  {
   "cell_type": "code",
   "execution_count": 2,
   "id": "2d86a036-f7f9-45ac-bb14-6c283419c936",
   "metadata": {},
   "outputs": [],
   "source": [
    "import pandas as pd\n",
    "suppliers= pd.read_csv(path)"
   ]
  },
  {
   "cell_type": "code",
   "execution_count": 3,
   "id": "09398687-7a76-4999-ba0c-05cf24ef8431",
   "metadata": {},
   "outputs": [
    {
     "data": {
      "text/html": [
       "<div>\n",
       "<style scoped>\n",
       "    .dataframe tbody tr th:only-of-type {\n",
       "        vertical-align: middle;\n",
       "    }\n",
       "\n",
       "    .dataframe tbody tr th {\n",
       "        vertical-align: top;\n",
       "    }\n",
       "\n",
       "    .dataframe thead th {\n",
       "        text-align: right;\n",
       "    }\n",
       "</style>\n",
       "<table border=\"1\" class=\"dataframe\">\n",
       "  <thead>\n",
       "    <tr style=\"text-align: right;\">\n",
       "      <th></th>\n",
       "      <th>supplier</th>\n",
       "      <th>product</th>\n",
       "      <th>availability</th>\n",
       "      <th>no_suppliers</th>\n",
       "      <th>standard</th>\n",
       "      <th>price_fluctuation</th>\n",
       "      <th>Quantity</th>\n",
       "      <th>price</th>\n",
       "    </tr>\n",
       "  </thead>\n",
       "  <tbody>\n",
       "    <tr>\n",
       "      <th>0</th>\n",
       "      <td>supplier1</td>\n",
       "      <td>product_1</td>\n",
       "      <td>0.0</td>\n",
       "      <td>0.5</td>\n",
       "      <td>0.0</td>\n",
       "      <td>0.5</td>\n",
       "      <td>710</td>\n",
       "      <td>360</td>\n",
       "    </tr>\n",
       "    <tr>\n",
       "      <th>1</th>\n",
       "      <td>supplier1</td>\n",
       "      <td>product_2</td>\n",
       "      <td>0.0</td>\n",
       "      <td>0.5</td>\n",
       "      <td>0.0</td>\n",
       "      <td>0.5</td>\n",
       "      <td>2997</td>\n",
       "      <td>2740</td>\n",
       "    </tr>\n",
       "    <tr>\n",
       "      <th>2</th>\n",
       "      <td>supplier1</td>\n",
       "      <td>product_3</td>\n",
       "      <td>0.0</td>\n",
       "      <td>0.5</td>\n",
       "      <td>0.0</td>\n",
       "      <td>0.5</td>\n",
       "      <td>3917</td>\n",
       "      <td>2919</td>\n",
       "    </tr>\n",
       "    <tr>\n",
       "      <th>3</th>\n",
       "      <td>supplier1</td>\n",
       "      <td>product_4</td>\n",
       "      <td>0.0</td>\n",
       "      <td>0.5</td>\n",
       "      <td>0.0</td>\n",
       "      <td>0.5</td>\n",
       "      <td>3827</td>\n",
       "      <td>3246</td>\n",
       "    </tr>\n",
       "    <tr>\n",
       "      <th>4</th>\n",
       "      <td>supplier1</td>\n",
       "      <td>product_5</td>\n",
       "      <td>0.0</td>\n",
       "      <td>0.5</td>\n",
       "      <td>0.0</td>\n",
       "      <td>0.0</td>\n",
       "      <td>3882</td>\n",
       "      <td>3596</td>\n",
       "    </tr>\n",
       "    <tr>\n",
       "      <th>5</th>\n",
       "      <td>supplier1</td>\n",
       "      <td>product_6</td>\n",
       "      <td>0.0</td>\n",
       "      <td>0.5</td>\n",
       "      <td>0.0</td>\n",
       "      <td>0.0</td>\n",
       "      <td>3663</td>\n",
       "      <td>917</td>\n",
       "    </tr>\n",
       "    <tr>\n",
       "      <th>6</th>\n",
       "      <td>supplier2</td>\n",
       "      <td>product_7</td>\n",
       "      <td>0.5</td>\n",
       "      <td>0.0</td>\n",
       "      <td>0.5</td>\n",
       "      <td>0.0</td>\n",
       "      <td>3517</td>\n",
       "      <td>2639</td>\n",
       "    </tr>\n",
       "    <tr>\n",
       "      <th>7</th>\n",
       "      <td>supplier2</td>\n",
       "      <td>product_8</td>\n",
       "      <td>0.5</td>\n",
       "      <td>0.0</td>\n",
       "      <td>0.5</td>\n",
       "      <td>0.0</td>\n",
       "      <td>450</td>\n",
       "      <td>1384</td>\n",
       "    </tr>\n",
       "    <tr>\n",
       "      <th>8</th>\n",
       "      <td>supplier2</td>\n",
       "      <td>product_9</td>\n",
       "      <td>0.5</td>\n",
       "      <td>0.0</td>\n",
       "      <td>0.5</td>\n",
       "      <td>0.0</td>\n",
       "      <td>1438</td>\n",
       "      <td>842</td>\n",
       "    </tr>\n",
       "    <tr>\n",
       "      <th>9</th>\n",
       "      <td>supplier2</td>\n",
       "      <td>product_10</td>\n",
       "      <td>0.5</td>\n",
       "      <td>0.0</td>\n",
       "      <td>0.5</td>\n",
       "      <td>0.0</td>\n",
       "      <td>2887</td>\n",
       "      <td>323</td>\n",
       "    </tr>\n",
       "  </tbody>\n",
       "</table>\n",
       "</div>"
      ],
      "text/plain": [
       "    supplier     product  availability  no_suppliers  standard  \\\n",
       "0  supplier1   product_1           0.0           0.5       0.0   \n",
       "1  supplier1   product_2           0.0           0.5       0.0   \n",
       "2  supplier1   product_3           0.0           0.5       0.0   \n",
       "3  supplier1   product_4           0.0           0.5       0.0   \n",
       "4  supplier1   product_5           0.0           0.5       0.0   \n",
       "5  supplier1   product_6           0.0           0.5       0.0   \n",
       "6  supplier2   product_7           0.5           0.0       0.5   \n",
       "7  supplier2   product_8           0.5           0.0       0.5   \n",
       "8  supplier2   product_9           0.5           0.0       0.5   \n",
       "9  supplier2  product_10           0.5           0.0       0.5   \n",
       "\n",
       "   price_fluctuation  Quantity  price  \n",
       "0                0.5       710    360  \n",
       "1                0.5      2997   2740  \n",
       "2                0.5      3917   2919  \n",
       "3                0.5      3827   3246  \n",
       "4                0.0      3882   3596  \n",
       "5                0.0      3663    917  \n",
       "6                0.0      3517   2639  \n",
       "7                0.0       450   1384  \n",
       "8                0.0      1438    842  \n",
       "9                0.0      2887    323  "
      ]
     },
     "execution_count": 3,
     "metadata": {},
     "output_type": "execute_result"
    }
   ],
   "source": [
    "suppliers.head(10)"
   ]
  },
  {
   "cell_type": "code",
   "execution_count": 4,
   "id": "ec46420d-91ad-47e9-b455-7d59acf6190b",
   "metadata": {},
   "outputs": [],
   "source": [
    "suppliers['Usage Value']= suppliers['Quantity']*suppliers['price']"
   ]
  },
  {
   "cell_type": "code",
   "execution_count": 5,
   "id": "5d17e277-6ca1-4c17-9e6b-2720b1925350",
   "metadata": {},
   "outputs": [
    {
     "data": {
      "text/html": [
       "<div>\n",
       "<style scoped>\n",
       "    .dataframe tbody tr th:only-of-type {\n",
       "        vertical-align: middle;\n",
       "    }\n",
       "\n",
       "    .dataframe tbody tr th {\n",
       "        vertical-align: top;\n",
       "    }\n",
       "\n",
       "    .dataframe thead th {\n",
       "        text-align: right;\n",
       "    }\n",
       "</style>\n",
       "<table border=\"1\" class=\"dataframe\">\n",
       "  <thead>\n",
       "    <tr style=\"text-align: right;\">\n",
       "      <th></th>\n",
       "      <th>supplier</th>\n",
       "      <th>product</th>\n",
       "      <th>availability</th>\n",
       "      <th>no_suppliers</th>\n",
       "      <th>standard</th>\n",
       "      <th>price_fluctuation</th>\n",
       "      <th>Quantity</th>\n",
       "      <th>price</th>\n",
       "      <th>Usage Value</th>\n",
       "    </tr>\n",
       "  </thead>\n",
       "  <tbody>\n",
       "    <tr>\n",
       "      <th>0</th>\n",
       "      <td>supplier1</td>\n",
       "      <td>product_1</td>\n",
       "      <td>0.0</td>\n",
       "      <td>0.5</td>\n",
       "      <td>0.0</td>\n",
       "      <td>0.5</td>\n",
       "      <td>710</td>\n",
       "      <td>360</td>\n",
       "      <td>255600</td>\n",
       "    </tr>\n",
       "    <tr>\n",
       "      <th>1</th>\n",
       "      <td>supplier1</td>\n",
       "      <td>product_2</td>\n",
       "      <td>0.0</td>\n",
       "      <td>0.5</td>\n",
       "      <td>0.0</td>\n",
       "      <td>0.5</td>\n",
       "      <td>2997</td>\n",
       "      <td>2740</td>\n",
       "      <td>8211780</td>\n",
       "    </tr>\n",
       "    <tr>\n",
       "      <th>2</th>\n",
       "      <td>supplier1</td>\n",
       "      <td>product_3</td>\n",
       "      <td>0.0</td>\n",
       "      <td>0.5</td>\n",
       "      <td>0.0</td>\n",
       "      <td>0.5</td>\n",
       "      <td>3917</td>\n",
       "      <td>2919</td>\n",
       "      <td>11433723</td>\n",
       "    </tr>\n",
       "    <tr>\n",
       "      <th>3</th>\n",
       "      <td>supplier1</td>\n",
       "      <td>product_4</td>\n",
       "      <td>0.0</td>\n",
       "      <td>0.5</td>\n",
       "      <td>0.0</td>\n",
       "      <td>0.5</td>\n",
       "      <td>3827</td>\n",
       "      <td>3246</td>\n",
       "      <td>12422442</td>\n",
       "    </tr>\n",
       "    <tr>\n",
       "      <th>4</th>\n",
       "      <td>supplier1</td>\n",
       "      <td>product_5</td>\n",
       "      <td>0.0</td>\n",
       "      <td>0.5</td>\n",
       "      <td>0.0</td>\n",
       "      <td>0.0</td>\n",
       "      <td>3882</td>\n",
       "      <td>3596</td>\n",
       "      <td>13959672</td>\n",
       "    </tr>\n",
       "  </tbody>\n",
       "</table>\n",
       "</div>"
      ],
      "text/plain": [
       "    supplier    product  availability  no_suppliers  standard  \\\n",
       "0  supplier1  product_1           0.0           0.5       0.0   \n",
       "1  supplier1  product_2           0.0           0.5       0.0   \n",
       "2  supplier1  product_3           0.0           0.5       0.0   \n",
       "3  supplier1  product_4           0.0           0.5       0.0   \n",
       "4  supplier1  product_5           0.0           0.5       0.0   \n",
       "\n",
       "   price_fluctuation  Quantity  price  Usage Value  \n",
       "0                0.5       710    360       255600  \n",
       "1                0.5      2997   2740      8211780  \n",
       "2                0.5      3917   2919     11433723  \n",
       "3                0.5      3827   3246     12422442  \n",
       "4                0.0      3882   3596     13959672  "
      ]
     },
     "execution_count": 5,
     "metadata": {},
     "output_type": "execute_result"
    }
   ],
   "source": [
    "suppliers.head()"
   ]
  },
  {
   "cell_type": "code",
   "execution_count": null,
   "id": "377363ec-c41e-4c11-b39e-4c4f3f663327",
   "metadata": {},
   "outputs": [],
   "source": []
  },
  {
   "cell_type": "code",
   "execution_count": null,
   "id": "15f8b0f8-89f5-44c9-ae0a-44df6111ae22",
   "metadata": {},
   "outputs": [],
   "source": []
  },
  {
   "cell_type": "code",
   "execution_count": 6,
   "id": "e3818c9f-c37c-44e5-81a1-bdd775887850",
   "metadata": {},
   "outputs": [
    {
     "data": {
      "text/plain": [
       "0    12193\n",
       "1    18996\n",
       "2     9392\n",
       "3    13122\n",
       "Name: Quantity, dtype: int64"
      ]
     },
     "execution_count": 6,
     "metadata": {},
     "output_type": "execute_result"
    }
   ],
   "source": [
    "(suppliers.groupby('supplier',as_index=False).sum()['Quantity'])"
   ]
  },
  {
   "cell_type": "code",
   "execution_count": 7,
   "id": "b97f20de-6ff0-4af7-89ec-0c9a87236f5d",
   "metadata": {},
   "outputs": [
    {
     "data": {
      "text/plain": [
       "array(['supplier1', 'supplier2', 'supplier3', 'supplier 4'], dtype=object)"
      ]
     },
     "execution_count": 7,
     "metadata": {},
     "output_type": "execute_result"
    }
   ],
   "source": [
    "suppliers['supplier'].unique()"
   ]
  },
  {
   "cell_type": "code",
   "execution_count": 8,
   "id": "9468ad7b-bf3f-4bbc-bb0b-f7711ea7021c",
   "metadata": {},
   "outputs": [],
   "source": [
    "suppliers.replace({'supplier 4':'supplier4'}, inplace=True)"
   ]
  },
  {
   "cell_type": "code",
   "execution_count": 9,
   "id": "9614abbf-25f2-40e6-aac9-c9002a559d81",
   "metadata": {},
   "outputs": [
    {
     "data": {
      "text/plain": [
       "Series([], Name: product, dtype: object)"
      ]
     },
     "execution_count": 9,
     "metadata": {},
     "output_type": "execute_result"
    }
   ],
   "source": [
    "suppliers[suppliers['supplier']=='supplier 4']['product']"
   ]
  },
  {
   "cell_type": "code",
   "execution_count": 10,
   "id": "02223f94-1b86-4a6a-af15-fd09e3ad19ac",
   "metadata": {},
   "outputs": [
    {
     "data": {
      "text/plain": [
       "18    product_19\n",
       "19    product_20\n",
       "20    product_21\n",
       "21    product_22\n",
       "22    product_23\n",
       "23    product_24\n",
       "Name: product, dtype: object"
      ]
     },
     "execution_count": 10,
     "metadata": {},
     "output_type": "execute_result"
    }
   ],
   "source": [
    "suppliers[suppliers['supplier']=='supplier4']['product']"
   ]
  },
  {
   "cell_type": "code",
   "execution_count": null,
   "id": "facd56e6-390a-4b99-b9c3-dad5a13b163d",
   "metadata": {},
   "outputs": [],
   "source": []
  },
  {
   "cell_type": "code",
   "execution_count": 11,
   "id": "d197f804-dce5-4a91-bc9d-543ef9a38959",
   "metadata": {},
   "outputs": [
    {
     "data": {
      "text/html": [
       "<div>\n",
       "<style scoped>\n",
       "    .dataframe tbody tr th:only-of-type {\n",
       "        vertical-align: middle;\n",
       "    }\n",
       "\n",
       "    .dataframe tbody tr th {\n",
       "        vertical-align: top;\n",
       "    }\n",
       "\n",
       "    .dataframe thead th {\n",
       "        text-align: right;\n",
       "    }\n",
       "</style>\n",
       "<table border=\"1\" class=\"dataframe\">\n",
       "  <thead>\n",
       "    <tr style=\"text-align: right;\">\n",
       "      <th></th>\n",
       "      <th>supplier</th>\n",
       "      <th>product</th>\n",
       "      <th>availability</th>\n",
       "      <th>no_suppliers</th>\n",
       "      <th>standard</th>\n",
       "      <th>price_fluctuation</th>\n",
       "      <th>Quantity</th>\n",
       "      <th>price</th>\n",
       "      <th>Usage Value</th>\n",
       "    </tr>\n",
       "  </thead>\n",
       "  <tbody>\n",
       "    <tr>\n",
       "      <th>14</th>\n",
       "      <td>supplier3</td>\n",
       "      <td>product_15</td>\n",
       "      <td>0.5</td>\n",
       "      <td>0.0</td>\n",
       "      <td>0.0</td>\n",
       "      <td>0.0</td>\n",
       "      <td>833</td>\n",
       "      <td>941</td>\n",
       "      <td>783853</td>\n",
       "    </tr>\n",
       "    <tr>\n",
       "      <th>15</th>\n",
       "      <td>supplier3</td>\n",
       "      <td>product_16</td>\n",
       "      <td>0.5</td>\n",
       "      <td>0.0</td>\n",
       "      <td>0.0</td>\n",
       "      <td>0.0</td>\n",
       "      <td>238</td>\n",
       "      <td>2858</td>\n",
       "      <td>680204</td>\n",
       "    </tr>\n",
       "    <tr>\n",
       "      <th>16</th>\n",
       "      <td>supplier3</td>\n",
       "      <td>product_17</td>\n",
       "      <td>0.5</td>\n",
       "      <td>0.0</td>\n",
       "      <td>0.0</td>\n",
       "      <td>0.5</td>\n",
       "      <td>2970</td>\n",
       "      <td>2774</td>\n",
       "      <td>8238780</td>\n",
       "    </tr>\n",
       "    <tr>\n",
       "      <th>17</th>\n",
       "      <td>supplier3</td>\n",
       "      <td>product_18</td>\n",
       "      <td>0.5</td>\n",
       "      <td>0.0</td>\n",
       "      <td>0.0</td>\n",
       "      <td>0.5</td>\n",
       "      <td>3618</td>\n",
       "      <td>3867</td>\n",
       "      <td>13990806</td>\n",
       "    </tr>\n",
       "    <tr>\n",
       "      <th>18</th>\n",
       "      <td>supplier4</td>\n",
       "      <td>product_19</td>\n",
       "      <td>0.0</td>\n",
       "      <td>0.5</td>\n",
       "      <td>0.5</td>\n",
       "      <td>0.5</td>\n",
       "      <td>1533</td>\n",
       "      <td>667</td>\n",
       "      <td>1022511</td>\n",
       "    </tr>\n",
       "    <tr>\n",
       "      <th>19</th>\n",
       "      <td>supplier4</td>\n",
       "      <td>product_20</td>\n",
       "      <td>0.0</td>\n",
       "      <td>0.5</td>\n",
       "      <td>0.5</td>\n",
       "      <td>0.5</td>\n",
       "      <td>2766</td>\n",
       "      <td>2799</td>\n",
       "      <td>7742034</td>\n",
       "    </tr>\n",
       "    <tr>\n",
       "      <th>20</th>\n",
       "      <td>supplier4</td>\n",
       "      <td>product_21</td>\n",
       "      <td>0.0</td>\n",
       "      <td>0.5</td>\n",
       "      <td>0.5</td>\n",
       "      <td>0.0</td>\n",
       "      <td>2706</td>\n",
       "      <td>3735</td>\n",
       "      <td>10106910</td>\n",
       "    </tr>\n",
       "    <tr>\n",
       "      <th>21</th>\n",
       "      <td>supplier4</td>\n",
       "      <td>product_22</td>\n",
       "      <td>0.0</td>\n",
       "      <td>0.5</td>\n",
       "      <td>0.5</td>\n",
       "      <td>0.0</td>\n",
       "      <td>3094</td>\n",
       "      <td>861</td>\n",
       "      <td>2663934</td>\n",
       "    </tr>\n",
       "    <tr>\n",
       "      <th>22</th>\n",
       "      <td>supplier4</td>\n",
       "      <td>product_23</td>\n",
       "      <td>0.0</td>\n",
       "      <td>0.5</td>\n",
       "      <td>0.5</td>\n",
       "      <td>0.0</td>\n",
       "      <td>508</td>\n",
       "      <td>1579</td>\n",
       "      <td>802132</td>\n",
       "    </tr>\n",
       "    <tr>\n",
       "      <th>23</th>\n",
       "      <td>supplier4</td>\n",
       "      <td>product_24</td>\n",
       "      <td>0.0</td>\n",
       "      <td>0.5</td>\n",
       "      <td>0.5</td>\n",
       "      <td>0.0</td>\n",
       "      <td>1586</td>\n",
       "      <td>75</td>\n",
       "      <td>118950</td>\n",
       "    </tr>\n",
       "  </tbody>\n",
       "</table>\n",
       "</div>"
      ],
      "text/plain": [
       "     supplier     product  availability  no_suppliers  standard  \\\n",
       "14  supplier3  product_15           0.5           0.0       0.0   \n",
       "15  supplier3  product_16           0.5           0.0       0.0   \n",
       "16  supplier3  product_17           0.5           0.0       0.0   \n",
       "17  supplier3  product_18           0.5           0.0       0.0   \n",
       "18  supplier4  product_19           0.0           0.5       0.5   \n",
       "19  supplier4  product_20           0.0           0.5       0.5   \n",
       "20  supplier4  product_21           0.0           0.5       0.5   \n",
       "21  supplier4  product_22           0.0           0.5       0.5   \n",
       "22  supplier4  product_23           0.0           0.5       0.5   \n",
       "23  supplier4  product_24           0.0           0.5       0.5   \n",
       "\n",
       "    price_fluctuation  Quantity  price  Usage Value  \n",
       "14                0.0       833    941       783853  \n",
       "15                0.0       238   2858       680204  \n",
       "16                0.5      2970   2774      8238780  \n",
       "17                0.5      3618   3867     13990806  \n",
       "18                0.5      1533    667      1022511  \n",
       "19                0.5      2766   2799      7742034  \n",
       "20                0.0      2706   3735     10106910  \n",
       "21                0.0      3094    861      2663934  \n",
       "22                0.0       508   1579       802132  \n",
       "23                0.0      1586     75       118950  "
      ]
     },
     "execution_count": 11,
     "metadata": {},
     "output_type": "execute_result"
    }
   ],
   "source": [
    "suppliers.tail(10)"
   ]
  },
  {
   "cell_type": "code",
   "execution_count": 37,
   "id": "0c2bb1ef-0f57-4d97-9571-aea99dd2425f",
   "metadata": {},
   "outputs": [],
   "source": [
    "import inventorize3 as inv"
   ]
  },
  {
   "cell_type": "code",
   "execution_count": 56,
   "id": "4c22b500-572b-4d23-bebc-ba5952d12af3",
   "metadata": {},
   "outputs": [],
   "source": [
    "a=inv.ABC(suppliers[[ 'product' , 'Usage Value']])"
   ]
  },
  {
   "cell_type": "code",
   "execution_count": 57,
   "id": "d88adf7f-e8da-49af-9282-b71172f3faef",
   "metadata": {},
   "outputs": [
    {
     "data": {
      "text/html": [
       "<div>\n",
       "<style scoped>\n",
       "    .dataframe tbody tr th:only-of-type {\n",
       "        vertical-align: middle;\n",
       "    }\n",
       "\n",
       "    .dataframe tbody tr th {\n",
       "        vertical-align: top;\n",
       "    }\n",
       "\n",
       "    .dataframe thead th {\n",
       "        text-align: right;\n",
       "    }\n",
       "</style>\n",
       "<table border=\"1\" class=\"dataframe\">\n",
       "  <thead>\n",
       "    <tr style=\"text-align: right;\">\n",
       "      <th></th>\n",
       "      <th>product</th>\n",
       "      <th>Usage Value</th>\n",
       "      <th>Percentage</th>\n",
       "      <th>comulative</th>\n",
       "      <th>Category</th>\n",
       "    </tr>\n",
       "  </thead>\n",
       "  <tbody>\n",
       "    <tr>\n",
       "      <th>17</th>\n",
       "      <td>product_18</td>\n",
       "      <td>13990806</td>\n",
       "      <td>0.115098</td>\n",
       "      <td>0.115098</td>\n",
       "      <td>A</td>\n",
       "    </tr>\n",
       "    <tr>\n",
       "      <th>4</th>\n",
       "      <td>product_5</td>\n",
       "      <td>13959672</td>\n",
       "      <td>0.114842</td>\n",
       "      <td>0.229940</td>\n",
       "      <td>A</td>\n",
       "    </tr>\n",
       "    <tr>\n",
       "      <th>3</th>\n",
       "      <td>product_4</td>\n",
       "      <td>12422442</td>\n",
       "      <td>0.102196</td>\n",
       "      <td>0.332136</td>\n",
       "      <td>A</td>\n",
       "    </tr>\n",
       "    <tr>\n",
       "      <th>2</th>\n",
       "      <td>product_3</td>\n",
       "      <td>11433723</td>\n",
       "      <td>0.094062</td>\n",
       "      <td>0.426197</td>\n",
       "      <td>A</td>\n",
       "    </tr>\n",
       "    <tr>\n",
       "      <th>20</th>\n",
       "      <td>product_21</td>\n",
       "      <td>10106910</td>\n",
       "      <td>0.083146</td>\n",
       "      <td>0.509344</td>\n",
       "      <td>A</td>\n",
       "    </tr>\n",
       "    <tr>\n",
       "      <th>6</th>\n",
       "      <td>product_7</td>\n",
       "      <td>9281363</td>\n",
       "      <td>0.076355</td>\n",
       "      <td>0.585699</td>\n",
       "      <td>A</td>\n",
       "    </tr>\n",
       "    <tr>\n",
       "      <th>16</th>\n",
       "      <td>product_17</td>\n",
       "      <td>8238780</td>\n",
       "      <td>0.067778</td>\n",
       "      <td>0.653477</td>\n",
       "      <td>A</td>\n",
       "    </tr>\n",
       "    <tr>\n",
       "      <th>1</th>\n",
       "      <td>product_2</td>\n",
       "      <td>8211780</td>\n",
       "      <td>0.067556</td>\n",
       "      <td>0.721033</td>\n",
       "      <td>A</td>\n",
       "    </tr>\n",
       "    <tr>\n",
       "      <th>19</th>\n",
       "      <td>product_20</td>\n",
       "      <td>7742034</td>\n",
       "      <td>0.063691</td>\n",
       "      <td>0.784724</td>\n",
       "      <td>A</td>\n",
       "    </tr>\n",
       "    <tr>\n",
       "      <th>13</th>\n",
       "      <td>product_14</td>\n",
       "      <td>6061926</td>\n",
       "      <td>0.049870</td>\n",
       "      <td>0.834594</td>\n",
       "      <td>B</td>\n",
       "    </tr>\n",
       "    <tr>\n",
       "      <th>12</th>\n",
       "      <td>product_13</td>\n",
       "      <td>5824780</td>\n",
       "      <td>0.047919</td>\n",
       "      <td>0.882512</td>\n",
       "      <td>B</td>\n",
       "    </tr>\n",
       "    <tr>\n",
       "      <th>5</th>\n",
       "      <td>product_6</td>\n",
       "      <td>3358971</td>\n",
       "      <td>0.027633</td>\n",
       "      <td>0.910145</td>\n",
       "      <td>B</td>\n",
       "    </tr>\n",
       "    <tr>\n",
       "      <th>21</th>\n",
       "      <td>product_22</td>\n",
       "      <td>2663934</td>\n",
       "      <td>0.021915</td>\n",
       "      <td>0.932061</td>\n",
       "      <td>B</td>\n",
       "    </tr>\n",
       "    <tr>\n",
       "      <th>10</th>\n",
       "      <td>product_11</td>\n",
       "      <td>1469172</td>\n",
       "      <td>0.012086</td>\n",
       "      <td>0.944147</td>\n",
       "      <td>B</td>\n",
       "    </tr>\n",
       "    <tr>\n",
       "      <th>8</th>\n",
       "      <td>product_9</td>\n",
       "      <td>1210796</td>\n",
       "      <td>0.009961</td>\n",
       "      <td>0.954108</td>\n",
       "      <td>C</td>\n",
       "    </tr>\n",
       "    <tr>\n",
       "      <th>18</th>\n",
       "      <td>product_19</td>\n",
       "      <td>1022511</td>\n",
       "      <td>0.008412</td>\n",
       "      <td>0.962520</td>\n",
       "      <td>C</td>\n",
       "    </tr>\n",
       "    <tr>\n",
       "      <th>9</th>\n",
       "      <td>product_10</td>\n",
       "      <td>932501</td>\n",
       "      <td>0.007671</td>\n",
       "      <td>0.970191</td>\n",
       "      <td>C</td>\n",
       "    </tr>\n",
       "    <tr>\n",
       "      <th>22</th>\n",
       "      <td>product_23</td>\n",
       "      <td>802132</td>\n",
       "      <td>0.006599</td>\n",
       "      <td>0.976790</td>\n",
       "      <td>C</td>\n",
       "    </tr>\n",
       "    <tr>\n",
       "      <th>14</th>\n",
       "      <td>product_15</td>\n",
       "      <td>783853</td>\n",
       "      <td>0.006449</td>\n",
       "      <td>0.983239</td>\n",
       "      <td>C</td>\n",
       "    </tr>\n",
       "    <tr>\n",
       "      <th>15</th>\n",
       "      <td>product_16</td>\n",
       "      <td>680204</td>\n",
       "      <td>0.005596</td>\n",
       "      <td>0.988835</td>\n",
       "      <td>C</td>\n",
       "    </tr>\n",
       "    <tr>\n",
       "      <th>7</th>\n",
       "      <td>product_8</td>\n",
       "      <td>622800</td>\n",
       "      <td>0.005124</td>\n",
       "      <td>0.993958</td>\n",
       "      <td>C</td>\n",
       "    </tr>\n",
       "    <tr>\n",
       "      <th>11</th>\n",
       "      <td>product_12</td>\n",
       "      <td>359856</td>\n",
       "      <td>0.002960</td>\n",
       "      <td>0.996919</td>\n",
       "      <td>C</td>\n",
       "    </tr>\n",
       "    <tr>\n",
       "      <th>0</th>\n",
       "      <td>product_1</td>\n",
       "      <td>255600</td>\n",
       "      <td>0.002103</td>\n",
       "      <td>0.999021</td>\n",
       "      <td>C</td>\n",
       "    </tr>\n",
       "    <tr>\n",
       "      <th>23</th>\n",
       "      <td>product_24</td>\n",
       "      <td>118950</td>\n",
       "      <td>0.000979</td>\n",
       "      <td>1.000000</td>\n",
       "      <td>C</td>\n",
       "    </tr>\n",
       "  </tbody>\n",
       "</table>\n",
       "</div>"
      ],
      "text/plain": [
       "       product  Usage Value  Percentage  comulative Category\n",
       "17  product_18     13990806    0.115098    0.115098        A\n",
       "4    product_5     13959672    0.114842    0.229940        A\n",
       "3    product_4     12422442    0.102196    0.332136        A\n",
       "2    product_3     11433723    0.094062    0.426197        A\n",
       "20  product_21     10106910    0.083146    0.509344        A\n",
       "6    product_7      9281363    0.076355    0.585699        A\n",
       "16  product_17      8238780    0.067778    0.653477        A\n",
       "1    product_2      8211780    0.067556    0.721033        A\n",
       "19  product_20      7742034    0.063691    0.784724        A\n",
       "13  product_14      6061926    0.049870    0.834594        B\n",
       "12  product_13      5824780    0.047919    0.882512        B\n",
       "5    product_6      3358971    0.027633    0.910145        B\n",
       "21  product_22      2663934    0.021915    0.932061        B\n",
       "10  product_11      1469172    0.012086    0.944147        B\n",
       "8    product_9      1210796    0.009961    0.954108        C\n",
       "18  product_19      1022511    0.008412    0.962520        C\n",
       "9   product_10       932501    0.007671    0.970191        C\n",
       "22  product_23       802132    0.006599    0.976790        C\n",
       "14  product_15       783853    0.006449    0.983239        C\n",
       "15  product_16       680204    0.005596    0.988835        C\n",
       "7    product_8       622800    0.005124    0.993958        C\n",
       "11  product_12       359856    0.002960    0.996919        C\n",
       "0    product_1       255600    0.002103    0.999021        C\n",
       "23  product_24       118950    0.000979    1.000000        C"
      ]
     },
     "execution_count": 57,
     "metadata": {},
     "output_type": "execute_result"
    }
   ],
   "source": [
    "a"
   ]
  },
  {
   "cell_type": "code",
   "execution_count": 58,
   "id": "ed3f86bc-ae6e-41df-a0e4-3a7324f20086",
   "metadata": {},
   "outputs": [
    {
     "data": {
      "text/plain": [
       "C    10\n",
       "A     9\n",
       "B     5\n",
       "Name: Category, dtype: int64"
      ]
     },
     "execution_count": 58,
     "metadata": {},
     "output_type": "execute_result"
    }
   ],
   "source": [
    "a.Category.value_counts()"
   ]
  },
  {
   "cell_type": "code",
   "execution_count": 59,
   "id": "0e80a85e-9343-4933-9aa9-2f8cba4f162c",
   "metadata": {},
   "outputs": [
    {
     "data": {
      "application/javascript": [
       "\n",
       "        if (window._pyforest_update_imports_cell) { window._pyforest_update_imports_cell('import seaborn as sns'); }\n",
       "    "
      ],
      "text/plain": [
       "<IPython.core.display.Javascript object>"
      ]
     },
     "metadata": {},
     "output_type": "display_data"
    },
    {
     "name": "stderr",
     "output_type": "stream",
     "text": [
      "C:\\Users\\Asus\\anaconda31\\lib\\site-packages\\seaborn\\_decorators.py:36: FutureWarning: Pass the following variable as a keyword arg: x. From version 0.12, the only valid positional argument will be `data`, and passing other arguments without an explicit keyword will result in an error or misinterpretation.\n",
      "  warnings.warn(\n"
     ]
    },
    {
     "data": {
      "text/plain": [
       "<AxesSubplot:xlabel='Category', ylabel='count'>"
      ]
     },
     "execution_count": 59,
     "metadata": {},
     "output_type": "execute_result"
    },
    {
     "data": {
      "image/png": "[encoded data removed]",
      "text/plain": [
       "<Figure size 432x288 with 1 Axes>"
      ]
     },
     "metadata": {
      "needs_background": "light"
     },
     "output_type": "display_data"
    }
   ],
   "source": [
    "sns.countplot(a.Category)"
   ]
  },
  {
   "cell_type": "code",
   "execution_count": 60,
   "id": "b132d80c-3e50-4ba1-bc16-748e8f2c4b4d",
   "metadata": {},
   "outputs": [],
   "source": [
    "b=inv.productmix(suppliers['product'],suppliers['Quantity'], suppliers['Usage Value'])"
   ]
  },
  {
   "cell_type": "code",
   "execution_count": 63,
   "id": "d11c6901-baab-4334-83b3-ab85e11b3519",
   "metadata": {},
   "outputs": [
    {
     "data": {
      "text/plain": [
       "17    A_A\n",
       "4     A_A\n",
       "3     A_A\n",
       "2     A_A\n",
       "20    B_A\n",
       "6     A_A\n",
       "16    A_A\n",
       "1     A_A\n",
       "19    A_A\n",
       "13    A_B\n",
       "12    B_B\n",
       "5     A_B\n",
       "21    A_B\n",
       "10    C_B\n",
       "8     B_C\n",
       "18    B_C\n",
       "9     A_C\n",
       "22    C_C\n",
       "14    B_C\n",
       "15    C_C\n",
       "7     C_C\n",
       "11    C_C\n",
       "0     C_C\n",
       "23    B_C\n",
       "Name: product_mix, dtype: object"
      ]
     },
     "execution_count": 63,
     "metadata": {},
     "output_type": "execute_result"
    }
   ],
   "source": [
    "b['product_mix']"
   ]
  },
  {
   "cell_type": "code",
   "execution_count": 64,
   "id": "38be4c62-f20d-45a9-a16f-db9aa068f8c9",
   "metadata": {},
   "outputs": [
    {
     "data": {
      "application/javascript": [
       "\n",
       "        if (window._pyforest_update_imports_cell) { window._pyforest_update_imports_cell('import seaborn as sns'); }\n",
       "    "
      ],
      "text/plain": [
       "<IPython.core.display.Javascript object>"
      ]
     },
     "metadata": {},
     "output_type": "display_data"
    },
    {
     "name": "stderr",
     "output_type": "stream",
     "text": [
      "C:\\Users\\Asus\\anaconda31\\lib\\site-packages\\seaborn\\_decorators.py:36: FutureWarning: Pass the following variable as a keyword arg: x. From version 0.12, the only valid positional argument will be `data`, and passing other arguments without an explicit keyword will result in an error or misinterpretation.\n",
      "  warnings.warn(\n"
     ]
    },
    {
     "data": {
      "text/plain": [
       "<AxesSubplot:xlabel='product_mix', ylabel='count'>"
      ]
     },
     "execution_count": 64,
     "metadata": {},
     "output_type": "execute_result"
    },
    {
     "data": {
      "image/png": "[encoded data removed]",
      "text/plain": [
       "<Figure size 432x288 with 1 Axes>"
      ]
     },
     "metadata": {
      "needs_background": "light"
     },
     "output_type": "display_data"
    }
   ],
   "source": [
    "sns.countplot(b['product_mix'])"
   ]
  },
  {
   "cell_type": "code",
   "execution_count": null,
   "id": "04ec105f-08dd-4d22-841f-603b5fdd991e",
   "metadata": {},
   "outputs": [],
   "source": []
  }
 ],
 "metadata": {
  "kernelspec": {
   "display_name": "Python 3",
   "language": "python",
   "name": "python3"
  },
  "language_info": {
   "codemirror_mode": {
    "name": "ipython",
    "version": 3
   },
   "file_extension": ".py",
   "mimetype": "text/x-python",
   "name": "python",
   "nbconvert_exporter": "python",
   "pygments_lexer": "ipython3",
   "version": "3.8.5"
  }
 },
 "nbformat": 4,
 "nbformat_minor": 5
}
